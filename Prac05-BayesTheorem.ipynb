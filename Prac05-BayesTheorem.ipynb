{
 "cells": [
  {
   "cell_type": "code",
   "execution_count": 3,
   "id": "833229eb",
   "metadata": {},
   "outputs": [
    {
     "name": "stdout",
     "output_type": "stream",
     "text": [
      "P(A\\B) = 0.339%\n"
     ]
    }
   ],
   "source": [
    "#calculate P(A\\B) given P(A),P(B\\A),P(B\\notA)\n",
    "def bayes_theorem(p_a, p_b_given_a, p_b_given_not_a):\n",
    "    #calculate P(notA)\n",
    "    not_a= 1-p_a\n",
    "    #calculate P(B)\n",
    "    p_b=p_b_given_a*p_a+p_b_given_not_a*not_a\n",
    "    #calculate P(A\\B)\n",
    "    p_a_given_b=(p_b_given_a*p_a)/p_b\n",
    "    return p_a_given_b\n",
    "\n",
    "\n",
    "#P(A)\n",
    "p_a=0.0002\n",
    "#P(B\\A)\n",
    "p_b_given_a=0.85\n",
    "#P(N\\notA)\n",
    "p_b_given_not_a= 0.05\n",
    "#calculate P(A\\B)\n",
    "result = bayes_theorem(p_a, p_b_given_a, p_b_given_not_a)\n",
    "#summarize\n",
    "print('P(A\\B) = %.3f%%'%(result*100))\n"
   ]
  },
  {
   "cell_type": "code",
   "execution_count": null,
   "id": "141bbfb6",
   "metadata": {},
   "outputs": [],
   "source": []
  }
 ],
 "metadata": {
  "kernelspec": {
   "display_name": "Python 3 (ipykernel)",
   "language": "python",
   "name": "python3"
  },
  "language_info": {
   "codemirror_mode": {
    "name": "ipython",
    "version": 3
   },
   "file_extension": ".py",
   "mimetype": "text/x-python",
   "name": "python",
   "nbconvert_exporter": "python",
   "pygments_lexer": "ipython3",
   "version": "3.9.7"
  }
 },
 "nbformat": 4,
 "nbformat_minor": 5
}
