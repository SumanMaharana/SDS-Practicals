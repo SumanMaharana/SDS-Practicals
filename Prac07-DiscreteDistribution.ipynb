{
 "cells": [
  {
   "cell_type": "code",
   "execution_count": 1,
   "id": "48117547",
   "metadata": {},
   "outputs": [],
   "source": [
    "%matplotlib inline\n",
    "import matplotlib.pyplot as plt\n",
    "from IPython.display import Math,Latex\n",
    "from IPython.core.display import Image\n",
    "import numpy as np\n"
   ]
  },
  {
   "cell_type": "code",
   "execution_count": 4,
   "id": "28e03dca",
   "metadata": {},
   "outputs": [],
   "source": [
    "#import seaborn\n",
    "import seaborn as sns\n",
    "#setting for seaborn plotting style\n",
    "sns.set(color_codes=True)\n",
    "#setting for seaborn plot sizes\n",
    "sns.set(rc={'figure.figsize':(5,5)})\n"
   ]
  },
  {
   "cell_type": "markdown",
   "id": "52286977",
   "metadata": {},
   "source": [
    "# Uniform distribution"
   ]
  },
  {
   "cell_type": "code",
   "execution_count": 5,
   "id": "942db898",
   "metadata": {},
   "outputs": [
    {
     "data": {
      "image/png": "[encoded data removed]",
      "text/plain": [
       "<Figure size 360x360 with 1 Axes>"
      ]
     },
     "metadata": {},
     "output_type": "display_data"
    }
   ],
   "source": [
    "from scipy.stats import randint\n",
    "import matplotlib.pyplot as plt\n",
    "fig, ax = plt.subplots(1,1)\n",
    "\n",
    "#calculate a few first moments:\n",
    "\n",
    "low, high=7, 31\n",
    "mean, var, skew, kurt = randint.stats(low,high,moments='mvsk')\n",
    "\n",
    "#display the probability mass function(pmf)\n",
    "\n",
    "x = np.arange(randint.ppf(0.01,low,high),\n",
    "             randint.ppf(0.99,low,high))\n",
    "ax.plot(x, randint.pmf(x, low, high), 'bo', ms=8, label='randint pmf')\n",
    "ax.vlines(x,0,randint.pmf(x,low,high), colors='b', lw=5, alpha=0.5)\n",
    "\n",
    "#alternatively, the distribution object can be called (as a function)\n",
    "#to fix the shape and location. this returns a \"frozen\" RV object holding\n",
    "#the given parameters fixed.\n",
    "\n",
    "#Freeze the distribution and display the frozen \"pmf\"\n",
    "rv = randint(low,high)\n",
    "ax.vlines(x,0,rv.pmf(x), colors='k', linestyles='-', lw=1, label='frozen pmf')\n",
    "ax.legend(loc='best', frameon=False)\n",
    "plt.show()\n",
    "\n",
    "#check accuracy of \"cdf\" and\"ppf\"\n",
    "\n",
    "prob = randint.cdf(x, low, high)\n",
    "np.allclose(x, randint.ppf(prob, low, high))\n",
    "#true\n",
    "\n",
    "#generate random numbers:\n",
    "\n",
    "r = randint.rvs(low, high, size=1000)\n"
   ]
  },
  {
   "cell_type": "code",
   "execution_count": 6,
   "id": "e2e52602",
   "metadata": {},
   "outputs": [
    {
     "data": {
      "text/plain": [
       "True"
      ]
     },
     "execution_count": 6,
     "metadata": {},
     "output_type": "execute_result"
    }
   ],
   "source": [
    "#check accuracy of \"cdf\" and\"ppf\"\n",
    "\n",
    "prob = randint.cdf(x, low, high)\n",
    "np.allclose(x, randint.ppf(prob, low, high))"
   ]
  },
  {
   "cell_type": "code",
   "execution_count": 2,
   "id": "0aac2fd3",
   "metadata": {},
   "outputs": [
    {
     "name": "stdout",
     "output_type": "stream",
     "text": [
      "\n",
      "\n",
      " [0.26892429 0.3769312  0.39875257 0.33960835 0.30701255 0.23932218\n",
      " 0.20391258 0.30343385 0.35453078 0.2364633 ]\n"
     ]
    }
   ],
   "source": [
    "#uniform distribution\n",
    "from numpy import random as r\n",
    "import matplotlib.pyplot as plt\n",
    "import seaborn as sns\n",
    "\n",
    "uniformMatrix=r.uniform(0.2,0.4,size=(10))\n",
    "\n",
    "print('\\n\\n',uniformMatrix)"
   ]
  },
  {
   "cell_type": "code",
   "execution_count": 4,
   "id": "82faac66",
   "metadata": {},
   "outputs": [
    {
     "name": "stderr",
     "output_type": "stream",
     "text": [
      "C:\\Users\\MSCIT\\anaconda3\\lib\\site-packages\\seaborn\\distributions.py:2619: FutureWarning: `distplot` is a deprecated function and will be removed in a future version. Please adapt your code to use either `displot` (a figure-level function with similar flexibility) or `kdeplot` (an axes-level function for kernel density plots).\n",
      "  warnings.warn(msg, FutureWarning)\n"
     ]
    },
    {
     "data": {
      "text/plain": [
       "<AxesSubplot:ylabel='Density'>"
      ]
     },
     "execution_count": 4,
     "metadata": {},
     "output_type": "execute_result"
    },
    {
     "data": {
      "image/png": "[encoded data removed]",
      "text/plain": [
       "<Figure size 432x288 with 1 Axes>"
      ]
     },
     "metadata": {
      "needs_background": "light"
     },
     "output_type": "display_data"
    }
   ],
   "source": [
    "sns.distplot(r.uniform(size=(1000)), hist=False)"
   ]
  },
  {
   "cell_type": "markdown",
   "id": "8efe05c1",
   "metadata": {},
   "source": [
    "# Bernoulli Distribution"
   ]
  },
  {
   "cell_type": "code",
   "execution_count": 5,
   "id": "8143e7b0",
   "metadata": {},
   "outputs": [],
   "source": [
    "from scipy.stats import bernoulli\n",
    "data_bern = bernoulli.rvs(size=10000,p=0.6)"
   ]
  },
  {
   "cell_type": "code",
   "execution_count": 6,
   "id": "91208fa2",
   "metadata": {},
   "outputs": [
    {
     "name": "stderr",
     "output_type": "stream",
     "text": [
      "C:\\Users\\MSCIT\\anaconda3\\lib\\site-packages\\seaborn\\distributions.py:2619: FutureWarning: `distplot` is a deprecated function and will be removed in a future version. Please adapt your code to use either `displot` (a figure-level function with similar flexibility) or `histplot` (an axes-level function for histograms).\n",
      "  warnings.warn(msg, FutureWarning)\n"
     ]
    },
    {
     "data": {
      "text/plain": [
       "[Text(0.5, 0, 'Bernoulli Distribution'), Text(0, 0.5, 'Frequency')]"
      ]
     },
     "execution_count": 6,
     "metadata": {},
     "output_type": "execute_result"
    },
    {
     "data": {
      "image/png": "[encoded data removed]",
      "text/plain": [
       "<Figure size 432x288 with 1 Axes>"
      ]
     },
     "metadata": {
      "needs_background": "light"
     },
     "output_type": "display_data"
    }
   ],
   "source": [
    "ax = sns.distplot(data_bern,\n",
    "                 kde=False,\n",
    "                 color=\"skyblue\",\n",
    "                 hist_kws={\"linewidth\": 15,'alpha':1})\n",
    "ax.set(xlabel='Bernoulli Distribution', ylabel='Frequency')"
   ]
  },
  {
   "cell_type": "markdown",
   "id": "c5cba9c0",
   "metadata": {},
   "source": [
    "# Binominal Distribution"
   ]
  },
  {
   "cell_type": "code",
   "execution_count": 12,
   "id": "a105ad94",
   "metadata": {},
   "outputs": [],
   "source": [
    "from scipy.stats import binom\n",
    "data_binom = binom.rvs(n=10,p=0.6,size=10000)"
   ]
  },
  {
   "cell_type": "code",
   "execution_count": 13,
   "id": "505df7d8",
   "metadata": {},
   "outputs": [
    {
     "data": {
      "text/plain": [
       "[Text(0.5, 0, 'Binomial Distribution'), Text(0, 0.5, 'Frequency')]"
      ]
     },
     "execution_count": 13,
     "metadata": {},
     "output_type": "execute_result"
    },
    {
     "data": {
      "image/png": "[encoded data removed]",
      "text/plain": [
       "<Figure size 432x288 with 1 Axes>"
      ]
     },
     "metadata": {
      "needs_background": "light"
     },
     "output_type": "display_data"
    }
   ],
   "source": [
    "ax = sns.distplot(data_binom,\n",
    "                 kde=False,\n",
    "                 color=\"skyblue\",\n",
    "                 hist_kws={\"linewidth\": 15,'alpha':1})\n",
    "ax.set(xlabel='Binomial Distribution', ylabel='Frequency')"
   ]
  },
  {
   "cell_type": "markdown",
   "id": "a66d693a",
   "metadata": {},
   "source": [
    "# Poisson Distribution"
   ]
  },
  {
   "cell_type": "code",
   "execution_count": 18,
   "id": "95351419",
   "metadata": {},
   "outputs": [],
   "source": [
    "from scipy.stats import poisson\n",
    "data_poisson = poisson.rvs(mu=3,size=10000)"
   ]
  },
  {
   "cell_type": "code",
   "execution_count": 20,
   "id": "55e2b999",
   "metadata": {},
   "outputs": [
    {
     "data": {
      "text/plain": [
       "[Text(0.5, 0, 'Poisson Distribution'), Text(0, 0.5, 'Frequency')]"
      ]
     },
     "execution_count": 20,
     "metadata": {},
     "output_type": "execute_result"
    },
    {
     "data": {
      "image/png": "[encoded data removed]",
      "text/plain": [
       "<Figure size 432x288 with 1 Axes>"
      ]
     },
     "metadata": {
      "needs_background": "light"
     },
     "output_type": "display_data"
    }
   ],
   "source": [
    "ax = sns.distplot(data_poisson,\n",
    "                 bins=30,\n",
    "                 kde=False,\n",
    "                 color=\"skyblue\",\n",
    "                 hist_kws={\"linewidth\": 15,'alpha':1})\n",
    "ax.set(xlabel='Poisson Distribution', ylabel='Frequency')"
   ]
  },
  {
   "cell_type": "code",
   "execution_count": 24,
   "id": "80d4cf09",
   "metadata": {},
   "outputs": [
    {
     "data": {
      "text/plain": [
       "0.057252288495362"
      ]
     },
     "execution_count": 24,
     "metadata": {},
     "output_type": "execute_result"
    }
   ],
   "source": [
    "#A warehouse typically receives 8 delivers between 4 and 5 on Friday\n",
    "#What is the probability that only 4 deliveries will arrive between 4 and 5 pm on Friday?\n",
    "\n",
    "from scipy.stats import poisson\n",
    "poisson.pmf(4,8)"
   ]
  },
  {
   "cell_type": "code",
   "execution_count": 25,
   "id": "1b3cb6af",
   "metadata": {},
   "outputs": [
    {
     "data": {
      "text/plain": [
       "0.04238011199168396"
      ]
     },
     "execution_count": 25,
     "metadata": {},
     "output_type": "execute_result"
    }
   ],
   "source": [
    "#What is the probability of having less than 3 deliveries on friday between 4 and 5 pm?\n",
    "\n",
    "from scipy.stats import poisson\n",
    "poisson.cdf(3,8)"
   ]
  },
  {
   "cell_type": "code",
   "execution_count": 26,
   "id": "fce3dacd",
   "metadata": {},
   "outputs": [
    {
     "data": {
      "text/plain": [
       "0.00033546262790251185"
      ]
     },
     "execution_count": 26,
     "metadata": {},
     "output_type": "execute_result"
    }
   ],
   "source": [
    "#What is the probability of having no deliveries on friday between 4 and 5 pm?\n",
    "\n",
    "from scipy.stats import poisson\n",
    "poisson.pmf(0,8)"
   ]
  },
  {
   "cell_type": "code",
   "execution_count": null,
   "id": "aa44e116",
   "metadata": {},
   "outputs": [],
   "source": []
  }
 ],
 "metadata": {
  "kernelspec": {
   "display_name": "Python 3 (ipykernel)",
   "language": "python",
   "name": "python3"
  },
  "language_info": {
   "codemirror_mode": {
    "name": "ipython",
    "version": 3
   },
   "file_extension": ".py",
   "mimetype": "text/x-python",
   "name": "python",
   "nbconvert_exporter": "python",
   "pygments_lexer": "ipython3",
   "version": "3.9.7"
  }
 },
 "nbformat": 4,
 "nbformat_minor": 5
}
